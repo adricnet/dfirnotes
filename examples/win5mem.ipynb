{
 "metadata": {
  "celltoolbar": "Slideshow",
  "name": "",
  "signature": "sha256:5410ebd5aea7d9ec737733c5cac0cd79d44fe5748d9b4d00ffbdef9501d7b399"
 },
 "nbformat": 3,
 "nbformat_minor": 0,
 "worksheets": [
  {
   "cells": [
    {
     "cell_type": "heading",
     "level": 1,
     "metadata": {
      "slideshow": {
       "slide_type": "slide"
      }
     },
     "source": [
      "dfirNotes Investigation"
     ]
    },
    {
     "cell_type": "markdown",
     "metadata": {
      "slideshow": {
       "slide_type": "-"
      }
     },
     "source": [
      "**Inv Plan:** Win5mem : WinXP memory image triage\n",
      "\n",
      "**Case:** 20150124BSK : *Suspicious IE/Java behaviour on workstation*\n",
      "\n",
      "**Investigator:** Ben S. Knowles (bsk@dfirnotes.org)\n",
      "\n",
      "**Response Phase:** Identification\n",
      "\n",
      "**Refs**: Problem reported to Helpdesk in ticket [1202](https://tickets.dfirnotes.org/HD-1202), Incident case record [20150124BSK](https:ir.dfirnotes.org/INC-20150124BSK)\n",
      "\n",
      "**Date/times of interest:** Memory image acquired 2014-04-17 11:00:53 -0400\n",
      "\n",
      "**Evidence location:** */cases/win5mem/winxp_java6-meterpreter.vmem*, VMWare memory image"
     ]
    },
    {
     "cell_type": "heading",
     "level": 2,
     "metadata": {
      "slideshow": {
       "slide_type": "slide"
      }
     },
     "source": [
      "Investigation Plan"
     ]
    },
    {
     "cell_type": "markdown",
     "metadata": {
      "slideshow": {
       "slide_type": "-"
      }
     },
     "source": [
      "*from 504.5 (2014) p42*\n",
      "\n",
      "1. Which processes are communicating on the network?\n",
      "2. Which process is likely run by the attacker?\n",
      "3. Look for signs of pivot and identify the destination system(s)\n",
      "4. What suspicious process might be root cause?\n",
      "5. (extra credit) Windows triage commands to find this information from a live system."
     ]
    },
    {
     "cell_type": "heading",
     "level": 2,
     "metadata": {
      "slideshow": {
       "slide_type": "slide"
      }
     },
     "source": [
      "Work"
     ]
    },
    {
     "cell_type": "markdown",
     "metadata": {
      "slideshow": {
       "slide_type": "subslide"
      }
     },
     "source": [
      "Use *Volatility* *imageinfo* plugin to check which profile to use and verify Vol can read the memory image. Once that's settled we can build a script for a batch run, process the memory image for our first batch of results, and look at the data with *Pandas*."
     ]
    },
    {
     "cell_type": "code",
     "collapsed": false,
     "input": [
      "!vol.py --plugins=/home/sosift/f/dfirnotes/ -f /cases/win5mem/winxp_java6-meterpreter.vmem --profile WinXPSP2x86 imageinfo"
     ],
     "language": "python",
     "metadata": {},
     "outputs": [
      {
       "output_type": "stream",
       "stream": "stdout",
       "text": [
        "Volatility Foundation Volatility Framework 2.4\r\n"
       ]
      },
      {
       "output_type": "stream",
       "stream": "stdout",
       "text": [
        "Determining profile based on KDBG search...\r\n",
        "\r\n"
       ]
      },
      {
       "output_type": "stream",
       "stream": "stdout",
       "text": [
        "          Suggested Profile(s) : WinXPSP2x86, WinXPSP3x86 (Instantiated with WinXPSP2x86)\r\n",
        "                     AS Layer1 : IA32PagedMemoryPae (Kernel AS)\r\n",
        "                     AS Layer2 : FileAddressSpace (/cases/win5mem/winxp_java6-meterpreter.vmem)\r\n",
        "                      PAE type : PAE\r\n",
        "                           DTB : 0x349000L\r\n"
       ]
      },
      {
       "output_type": "stream",
       "stream": "stdout",
       "text": [
        "                          KDBG : 0x80545ce0\r\n",
        "          Number of Processors : 1\r\n",
        "     Image Type (Service Pack) : 3\r\n",
        "                KPCR for CPU 0 : 0xffdff000\r\n",
        "             KUSER_SHARED_DATA : 0xffdf0000\r\n",
        "           Image date and time : 2014-04-17 15:00:53 UTC+0000\r\n",
        "     Image local date and time : 2014-04-17 11:00:53 -0400\r\n"
       ]
      }
     ],
     "prompt_number": 4
    },
    {
     "cell_type": "code",
     "collapsed": false,
     "input": [
      "## Get setup to process memory with Volatility, analyse data with Pandas, chart with matplotlib\n",
      "## Charting tips from https://datasciencelab.wordpress.com/2013/12/21/beautiful-plots-with-pandas-and-matplotlib/\n",
      "import pandas as pd\n",
      "%matplotlib inline\n",
      "import matplotlib as mpl\n",
      "import matplotlib.pylab as plt\n",
      "\n",
      "##\n",
      "case_folder = '/cases/win5mem/'\n",
      "memimage = '/cases/win5mem/winxp_java6-meterpreter.vmem' \n",
      "vol_profile = 'WinXPSP2x86' ## use vol.py imageinfo if you don't know this\n",
      "\n",
      "## Assemble the volatility commands for batch execution in a shell\n",
      "## start with sift3 volatility + custom modules sample\n",
      "vol24 = '/usr/bin/vol.py --plugins=/home/sosift/f/dfirnotes/ ' \n",
      "vol_cmd = vol24 + '-f ' + memimage + ' --profile=' + vol_profile\n",
      "\n",
      "## Configure plugins and output formats, completion flags:\n",
      "vol_cmd_ps = vol_cmd + ' pscsv --output=csv ' + '> ' + case_folder + 'ps.csv' + ' && echo PS CSV Done!'\n",
      "vol_cmd_conns = vol_cmd + ' connscan ' + '> ' + case_folder + 'connscan.txt' + ' && echo Connscan Done!'\n",
      "\n",
      "vol_script = case_folder + 'volscript'\n",
      "\n",
      "with open(vol_script, 'wb') as f:\n",
      "            f.write(vol_cmd_ps+'\\n')\n",
      "            f.write(vol_cmd_conns)"
     ],
     "language": "python",
     "metadata": {},
     "outputs": [],
     "prompt_number": 6
    },
    {
     "cell_type": "code",
     "collapsed": false,
     "input": [
      "! /bin/sh /cases/win5mem/volscript"
     ],
     "language": "python",
     "metadata": {
      "slideshow": {
       "slide_type": "subslide"
      }
     },
     "outputs": [
      {
       "output_type": "stream",
       "stream": "stdout",
       "text": [
        "Volatility Foundation Volatility Framework 2.4\r\n"
       ]
      },
      {
       "output_type": "stream",
       "stream": "stdout",
       "text": [
        "PS CSV Done!\r\n"
       ]
      },
      {
       "output_type": "stream",
       "stream": "stdout",
       "text": [
        "Volatility Foundation Volatility Framework 2.4\r\n"
       ]
      },
      {
       "output_type": "stream",
       "stream": "stdout",
       "text": [
        "Connscan Done!\r\n"
       ]
      }
     ],
     "prompt_number": 81
    },
    {
     "cell_type": "markdown",
     "metadata": {
      "slideshow": {
       "slide_type": "subslide"
      }
     },
     "source": [
      "Batch processing is complete. Let's pull our results in Pandas DataFrames so we can take a look, starting with the processes CSV file from the demo *pscsv* plugin. We can easily import CSV with Pandas and let it know which column is the date/time data on import, and then set the PID number field as our index. We use the Pandas df.info() function to see a summary of what we imported before continuing."
     ]
    },
    {
     "cell_type": "code",
     "collapsed": false,
     "input": [
      "procs = pd.read_csv('/cases/win5mem/ps.csv', parse_dates=['Created'])\n",
      "procs.set_index(['Pid'])\n",
      "procs.info()"
     ],
     "language": "python",
     "metadata": {},
     "outputs": [
      {
       "output_type": "stream",
       "stream": "stdout",
       "text": [
        "<class 'pandas.core.frame.DataFrame'>\n",
        "Int64Index: 35 entries, 0 to 34\n",
        "Data columns (total 4 columns):\n",
        "Offset     35 non-null object\n",
        "Process    35 non-null object\n",
        "Pid        35 non-null int64\n",
        "Created    35 non-null datetime64[ns]\n",
        "dtypes: datetime64[ns](1), int64(1), object(2)\n",
        "memory usage: 1.4+ KB\n"
       ]
      }
     ],
     "prompt_number": 2
    },
    {
     "cell_type": "markdown",
     "metadata": {
      "slideshow": {
       "slide_type": "subslide"
      }
     },
     "source": [
      "Here's quick histogram of processes by process name. Only svchost, Java, VmWare, and Internet Explorer have more than one instance."
     ]
    },
    {
     "cell_type": "code",
     "collapsed": false,
     "input": [
      "# Create a figure of given size\n",
      "fig = plt.figure(figsize=(12,8))\n",
      "\n",
      "# Add a subplot\n",
      "ax = fig.add_subplot(111)\n",
      "# Remove grid lines (dotted lines inside plot)\n",
      "ax.grid(False)\n",
      "# Remove plot frame\n",
      "ax.set_frame_on(False)\n",
      "# Pandas trick: remove weird dotted line on axis\n",
      "#ax.lines[0].set_visible(False)\n",
      "\n",
      "# Set title\n",
      "ttl = title='Process Counts'\n",
      "# Set color transparency (0: transparent; 1: solid)\n",
      "a = 0.7\n",
      "# Create a colormap\n",
      "customcmap = [(x/24.0,  x/48.0, 0.05) for x in range(len(procs))]\n",
      "## chart the data frame with these params\n",
      "procs['Process'].sort_index().value_counts().plot(kind='barh', title=ttl, ax=ax, alpha=a)\n",
      "plt.savefig('Process Counts.png', bbox_inches='tight', dpi=300)"
     ],
     "language": "python",
     "metadata": {
      "slideshow": {
       "slide_type": "-"
      }
     },
     "outputs": [
      {
       "metadata": {},
       "output_type": "display_data",
       "png": "[encoded data removed]",
       "text": [
        "<matplotlib.figure.Figure at 0x9131bd0>"
       ]
      }
     ],
     "prompt_number": 28
    },
    {
     "cell_type": "markdown",
     "metadata": {
      "slideshow": {
       "slide_type": "subslide"
      }
     },
     "source": [
      "Pandas can handle fixed width text tables almost as adroitly as CSV using the read_fwf function. We use it to load in the output of the standard Volatility connscan, set the Pid field as our index, and check import with info(). \n",
      "\n",
      "(FIXME) We need to get rid of one null line that is an import artifact."
     ]
    },
    {
     "cell_type": "code",
     "collapsed": false,
     "input": [
      "conns = pd.read_fwf('/cases/win5mem/conns.txt')\n",
      "conns.set_index(['Pid'])\n",
      "conns.info()"
     ],
     "language": "python",
     "metadata": {},
     "outputs": [
      {
       "output_type": "stream",
       "stream": "stdout",
       "text": [
        "<class 'pandas.core.frame.DataFrame'>\n",
        "Int64Index: 31 entries, 0 to 30\n",
        "Data columns (total 4 columns):\n",
        "Offset(P)         31 non-null object\n",
        "Local Address     31 non-null object\n",
        "Remote Address    31 non-null object\n",
        "Pid               31 non-null object\n",
        "dtypes: object(4)\n",
        "memory usage: 1.2+ KB\n"
       ]
      }
     ],
     "prompt_number": 31
    },
    {
     "cell_type": "markdown",
     "metadata": {
      "slideshow": {
       "slide_type": "slide"
      }
     },
     "source": [
      "Here is a quick histogram of the remote IP addresses in use, including the port numbers. Reviewing the x-axis we see common web service ports (80 and 443), Windows service ports (139), and some less obvious ones. High ports 1337, 4444, and 1648 may all be worth followup as they are less expected on a Windows XP system than the first set."
     ]
    },
    {
     "cell_type": "code",
     "collapsed": false,
     "input": [
      "# Create a figure of given size\n",
      "fig = plt.figure(figsize=(12,8))\n",
      "\n",
      "# Add a subplot\n",
      "ax = fig.add_subplot(111)\n",
      "# Remove grid lines (dotted lines inside plot)\n",
      "ax.grid(False)\n",
      "# Remove plot frame\n",
      "ax.set_frame_on(False)\n",
      "# Pandas trick: remove weird dotted line on axis\n",
      "#ax.lines[0].set_visible(False)\n",
      "\n",
      "# Set title\n",
      "ttl = title='Remote Connections'\n",
      "# Set color transparency (0: transparent; 1: solid)\n",
      "a = 0.7\n",
      "# Create a colormap\n",
      "customcmap = [(x/24.0,  x/48.0, 0.05) for x in range(len(procs))]\n",
      "## chart the data frame with these params\n",
      "\n",
      "conns['Remote Address'].sort_index().value_counts().plot(kind='barh', title=ttl, ax=ax, alpha=a)\n",
      "\n",
      "plt.savefig('Remote Connections.png', bbox_inches='tight', dpi=300)"
     ],
     "language": "python",
     "metadata": {
      "slideshow": {
       "slide_type": "-"
      }
     },
     "outputs": [
      {
       "metadata": {},
       "output_type": "display_data",
       "png": "[encoded data removed]",
       "text": [
        "<matplotlib.figure.Figure at 0x97cf110>"
       ]
      }
     ],
     "prompt_number": 32
    },
    {
     "cell_type": "markdown",
     "metadata": {
      "slideshow": {
       "slide_type": "subslide"
      }
     },
     "source": [
      "Let's slice out just those IE processes and see who they were talking to. We pull the process IDs from the process data and use it to look for processes with connection in the connection data from *connscan*."
     ]
    },
    {
     "cell_type": "code",
     "collapsed": false,
     "input": [
      "procs[procs.Process==\"iexplore.exe\"]"
     ],
     "language": "python",
     "metadata": {
      "slideshow": {
       "slide_type": "-"
      }
     },
     "outputs": [
      {
       "html": [
        "<div style=\"max-height:1000px;max-width:1500px;overflow:auto;\">\n",
        "<table border=\"1\" class=\"dataframe\">\n",
        "  <thead>\n",
        "    <tr style=\"text-align: right;\">\n",
        "      <th></th>\n",
        "      <th>Offset</th>\n",
        "      <th>Process</th>\n",
        "      <th>Created</th>\n",
        "    </tr>\n",
        "    <tr>\n",
        "      <th>Pid</th>\n",
        "      <th></th>\n",
        "      <th></th>\n",
        "      <th></th>\n",
        "    </tr>\n",
        "  </thead>\n",
        "  <tbody>\n",
        "    <tr>\n",
        "      <th>308 </th>\n",
        "      <td> 0x82033020</td>\n",
        "      <td> iexplore.exe</td>\n",
        "      <td>2014-04-17 14:41:31</td>\n",
        "    </tr>\n",
        "    <tr>\n",
        "      <th>2576</th>\n",
        "      <td> 0x82100020</td>\n",
        "      <td> iexplore.exe</td>\n",
        "      <td>2014-04-17 14:41:37</td>\n",
        "    </tr>\n",
        "  </tbody>\n",
        "</table>\n",
        "</div>"
       ],
       "metadata": {},
       "output_type": "pyout",
       "prompt_number": 92,
       "text": [
        "          Offset       Process             Created\n",
        "Pid                                               \n",
        "308   0x82033020  iexplore.exe 2014-04-17 14:41:31\n",
        "2576  0x82100020  iexplore.exe 2014-04-17 14:41:37"
       ]
      }
     ],
     "prompt_number": 92
    },
    {
     "cell_type": "code",
     "collapsed": false,
     "input": [
      "## not all processes have connections, but this one does\n",
      "ie_conns = conns[conns.Pid == '2576']"
     ],
     "language": "python",
     "metadata": {},
     "outputs": [],
     "prompt_number": 34
    },
    {
     "cell_type": "code",
     "collapsed": false,
     "input": [
      "# Create a figure of given size\n",
      "fig = plt.figure(figsize=(12,8))\n",
      "\n",
      "# Add a subplot\n",
      "ax = fig.add_subplot(111)\n",
      "# Remove grid lines (dotted lines inside plot)\n",
      "ax.grid(False)\n",
      "# Remove plot frame\n",
      "ax.set_frame_on(False)\n",
      "# Pandas trick: remove weird dotted line on axis\n",
      "#ax.lines[0].set_visible(False)\n",
      "\n",
      "# Set title\n",
      "ttl = title='IE Remote Connections'\n",
      "# Set color transparency (0: transparent; 1: solid)\n",
      "a = 0.7\n",
      "# Create a colormap\n",
      "customcmap = [(x/24.0,  x/48.0, 0.05) for x in range(len(procs))]\n",
      "## chart the data frame with these params\n",
      "\n",
      "conns['Remote Address'].sort_index().value_counts()\n",
      "ie_conns['Remote Address'].sort_index().value_counts().plot(kind='barh', title=ttl, ax=ax, alpha=a)\n",
      "\n",
      "plt.savefig('IE Remote Connections.png', bbox_inches='tight', dpi=300)\n"
     ],
     "language": "python",
     "metadata": {
      "slideshow": {
       "slide_type": "subslide"
      }
     },
     "outputs": [
      {
       "metadata": {},
       "output_type": "display_data",
       "png": "[encoded data removed]",
       "text": [
        "<matplotlib.figure.Figure at 0x98003d0>"
       ]
      }
     ],
     "prompt_number": 36
    },
    {
     "cell_type": "markdown",
     "metadata": {
      "slideshow": {
       "slide_type": "subslide"
      }
     },
     "source": [
      "We can see that IE was talking to several Internet addresses on web service ports and one local (RFC1918) address on 1337. And Java?"
     ]
    },
    {
     "cell_type": "code",
     "collapsed": false,
     "input": [
      "## not all processes have connections, this one does\n",
      "java_conns = conns[conns.Pid=='3156']\n",
      "java_conns['Remote Address'].sort_index().value_counts().plot(kind='bar')"
     ],
     "language": "python",
     "metadata": {
      "slideshow": {
       "slide_type": "-"
      }
     },
     "outputs": [
      {
       "metadata": {},
       "output_type": "pyout",
       "prompt_number": 100,
       "text": [
        "<matplotlib.axes.AxesSubplot at 0x369df90>"
       ]
      },
      {
       "metadata": {},
       "output_type": "display_data",
       "png": "[encoded data removed]",
       "text": [
        "<matplotlib.figure.Figure at 0x486e810>"
       ]
      }
     ],
     "prompt_number": 100
    },
    {
     "cell_type": "markdown",
     "metadata": {
      "slideshow": {
       "slide_type": "subslide"
      }
     },
     "source": [
      "One Java process was also communicating with the unknown 1337 service on the local network."
     ]
    },
    {
     "cell_type": "heading",
     "level": 1,
     "metadata": {
      "slideshow": {
       "slide_type": "slide"
      }
     },
     "source": [
      "Results"
     ]
    },
    {
     "cell_type": "heading",
     "level": 2,
     "metadata": {
      "slideshow": {
       "slide_type": "subslide"
      }
     },
     "source": [
      "Complete Process List and Connection List:"
     ]
    },
    {
     "cell_type": "code",
     "collapsed": false,
     "input": [
      "procs"
     ],
     "language": "python",
     "metadata": {
      "slideshow": {
       "slide_type": "-"
      }
     },
     "outputs": [
      {
       "html": [
        "<div style=\"max-height:1000px;max-width:1500px;overflow:auto;\">\n",
        "<table border=\"1\" class=\"dataframe\">\n",
        "  <thead>\n",
        "    <tr style=\"text-align: right;\">\n",
        "      <th></th>\n",
        "      <th>Offset</th>\n",
        "      <th>Process</th>\n",
        "      <th>Pid</th>\n",
        "      <th>Created</th>\n",
        "    </tr>\n",
        "  </thead>\n",
        "  <tbody>\n",
        "    <tr>\n",
        "      <th>0 </th>\n",
        "      <td> 0x825c8660</td>\n",
        "      <td>          System</td>\n",
        "      <td>    4</td>\n",
        "      <td>1970-01-01 00:00:00</td>\n",
        "    </tr>\n",
        "    <tr>\n",
        "      <th>1 </th>\n",
        "      <td> 0x82208020</td>\n",
        "      <td>        smss.exe</td>\n",
        "      <td>  384</td>\n",
        "      <td>2014-04-09 07:47:06</td>\n",
        "    </tr>\n",
        "    <tr>\n",
        "      <th>2 </th>\n",
        "      <td> 0x821be3b8</td>\n",
        "      <td>       csrss.exe</td>\n",
        "      <td>  620</td>\n",
        "      <td>2014-04-09 07:47:12</td>\n",
        "    </tr>\n",
        "    <tr>\n",
        "      <th>3 </th>\n",
        "      <td> 0x82444da0</td>\n",
        "      <td>    winlogon.exe</td>\n",
        "      <td>  700</td>\n",
        "      <td>2014-04-09 07:47:13</td>\n",
        "    </tr>\n",
        "    <tr>\n",
        "      <th>4 </th>\n",
        "      <td> 0x821bcda0</td>\n",
        "      <td>    services.exe</td>\n",
        "      <td>  744</td>\n",
        "      <td>2014-04-09 07:47:14</td>\n",
        "    </tr>\n",
        "    <tr>\n",
        "      <th>5 </th>\n",
        "      <td> 0x824ee4b0</td>\n",
        "      <td>       lsass.exe</td>\n",
        "      <td>  756</td>\n",
        "      <td>2014-04-09 07:47:14</td>\n",
        "    </tr>\n",
        "    <tr>\n",
        "      <th>6 </th>\n",
        "      <td> 0x8208aa78</td>\n",
        "      <td>    vmacthlp.exe</td>\n",
        "      <td>  912</td>\n",
        "      <td>2014-04-09 07:47:14</td>\n",
        "    </tr>\n",
        "    <tr>\n",
        "      <th>7 </th>\n",
        "      <td> 0x821fd6b8</td>\n",
        "      <td>     svchost.exe</td>\n",
        "      <td>  936</td>\n",
        "      <td>2014-04-09 07:47:15</td>\n",
        "    </tr>\n",
        "    <tr>\n",
        "      <th>8 </th>\n",
        "      <td> 0x82240320</td>\n",
        "      <td>     svchost.exe</td>\n",
        "      <td> 1004</td>\n",
        "      <td>2014-04-09 07:47:15</td>\n",
        "    </tr>\n",
        "    <tr>\n",
        "      <th>9 </th>\n",
        "      <td> 0x820f6da0</td>\n",
        "      <td>     svchost.exe</td>\n",
        "      <td> 1320</td>\n",
        "      <td>2014-04-09 07:47:16</td>\n",
        "    </tr>\n",
        "    <tr>\n",
        "      <th>10</th>\n",
        "      <td> 0x821ea8e0</td>\n",
        "      <td>     svchost.exe</td>\n",
        "      <td> 1388</td>\n",
        "      <td>2014-04-09 07:47:17</td>\n",
        "    </tr>\n",
        "    <tr>\n",
        "      <th>11</th>\n",
        "      <td> 0x82377020</td>\n",
        "      <td>     svchost.exe</td>\n",
        "      <td> 1612</td>\n",
        "      <td>2014-04-09 07:47:18</td>\n",
        "    </tr>\n",
        "    <tr>\n",
        "      <th>12</th>\n",
        "      <td> 0x82348980</td>\n",
        "      <td>      wbload.exe</td>\n",
        "      <td> 1772</td>\n",
        "      <td>2014-04-09 07:47:21</td>\n",
        "    </tr>\n",
        "    <tr>\n",
        "      <th>13</th>\n",
        "      <td> 0x8208cc10</td>\n",
        "      <td>     spoolsv.exe</td>\n",
        "      <td> 1832</td>\n",
        "      <td>2014-04-09 07:47:21</td>\n",
        "    </tr>\n",
        "    <tr>\n",
        "      <th>14</th>\n",
        "      <td> 0x822d8020</td>\n",
        "      <td>    explorer.exe</td>\n",
        "      <td>  184</td>\n",
        "      <td>2014-04-09 07:47:25</td>\n",
        "    </tr>\n",
        "    <tr>\n",
        "      <th>15</th>\n",
        "      <td> 0x82056c10</td>\n",
        "      <td>    vmtoolsd.exe</td>\n",
        "      <td>  432</td>\n",
        "      <td>2014-04-09 07:47:27</td>\n",
        "    </tr>\n",
        "    <tr>\n",
        "      <th>16</th>\n",
        "      <td> 0x824d9da0</td>\n",
        "      <td>      ctfmon.exe</td>\n",
        "      <td>  440</td>\n",
        "      <td>2014-04-09 07:47:28</td>\n",
        "    </tr>\n",
        "    <tr>\n",
        "      <th>17</th>\n",
        "      <td> 0x824f8a28</td>\n",
        "      <td> GoogleCrashHand</td>\n",
        "      <td>  492</td>\n",
        "      <td>2014-04-09 07:47:28</td>\n",
        "    </tr>\n",
        "    <tr>\n",
        "      <th>18</th>\n",
        "      <td> 0x82207670</td>\n",
        "      <td>     svchost.exe</td>\n",
        "      <td>  560</td>\n",
        "      <td>2014-04-09 07:47:30</td>\n",
        "    </tr>\n",
        "    <tr>\n",
        "      <th>19</th>\n",
        "      <td> 0x82048460</td>\n",
        "      <td>     svchost.exe</td>\n",
        "      <td>  596</td>\n",
        "      <td>2014-04-09 07:47:31</td>\n",
        "    </tr>\n",
        "    <tr>\n",
        "      <th>20</th>\n",
        "      <td> 0x821789a0</td>\n",
        "      <td> afsd_service.ex</td>\n",
        "      <td> 1108</td>\n",
        "      <td>2014-04-09 07:47:31</td>\n",
        "    </tr>\n",
        "    <tr>\n",
        "      <th>21</th>\n",
        "      <td> 0x824f9590</td>\n",
        "      <td>   bosctlsvc.exe</td>\n",
        "      <td> 1200</td>\n",
        "      <td>2014-04-09 07:47:31</td>\n",
        "    </tr>\n",
        "    <tr>\n",
        "      <th>22</th>\n",
        "      <td> 0x82180020</td>\n",
        "      <td>    vmtoolsd.exe</td>\n",
        "      <td> 1252</td>\n",
        "      <td>2014-04-09 07:47:31</td>\n",
        "    </tr>\n",
        "    <tr>\n",
        "      <th>23</th>\n",
        "      <td> 0x82224970</td>\n",
        "      <td> vmware-usbarbit</td>\n",
        "      <td> 1444</td>\n",
        "      <td>2014-04-09 07:47:31</td>\n",
        "    </tr>\n",
        "    <tr>\n",
        "      <th>24</th>\n",
        "      <td> 0x823509a0</td>\n",
        "      <td> TPAutoConnSvc.e</td>\n",
        "      <td> 1560</td>\n",
        "      <td>2014-04-09 07:47:39</td>\n",
        "    </tr>\n",
        "    <tr>\n",
        "      <th>25</th>\n",
        "      <td> 0x81ef1628</td>\n",
        "      <td>         alg.exe</td>\n",
        "      <td> 2440</td>\n",
        "      <td>2014-04-09 07:47:40</td>\n",
        "    </tr>\n",
        "    <tr>\n",
        "      <th>26</th>\n",
        "      <td> 0x81ee72b0</td>\n",
        "      <td>     wscntfy.exe</td>\n",
        "      <td> 2492</td>\n",
        "      <td>2014-04-09 07:47:41</td>\n",
        "    </tr>\n",
        "    <tr>\n",
        "      <th>27</th>\n",
        "      <td> 0x8211b020</td>\n",
        "      <td>   bosserver.exe</td>\n",
        "      <td> 3548</td>\n",
        "      <td>2014-04-13 08:00:34</td>\n",
        "    </tr>\n",
        "    <tr>\n",
        "      <th>28</th>\n",
        "      <td> 0x81eca988</td>\n",
        "      <td>         cmd.exe</td>\n",
        "      <td> 3440</td>\n",
        "      <td>2014-04-17 13:37:59</td>\n",
        "    </tr>\n",
        "    <tr>\n",
        "      <th>29</th>\n",
        "      <td> 0x82034020</td>\n",
        "      <td>         jqs.exe</td>\n",
        "      <td>  640</td>\n",
        "      <td>2014-04-17 14:39:48</td>\n",
        "    </tr>\n",
        "    <tr>\n",
        "      <th>30</th>\n",
        "      <td> 0x82033020</td>\n",
        "      <td>    iexplore.exe</td>\n",
        "      <td>  308</td>\n",
        "      <td>2014-04-17 14:41:31</td>\n",
        "    </tr>\n",
        "    <tr>\n",
        "      <th>31</th>\n",
        "      <td> 0x82100020</td>\n",
        "      <td>    iexplore.exe</td>\n",
        "      <td> 2576</td>\n",
        "      <td>2014-04-17 14:41:37</td>\n",
        "    </tr>\n",
        "    <tr>\n",
        "      <th>32</th>\n",
        "      <td> 0x81ee8990</td>\n",
        "      <td>        java.exe</td>\n",
        "      <td> 3156</td>\n",
        "      <td>2014-04-17 14:42:15</td>\n",
        "    </tr>\n",
        "    <tr>\n",
        "      <th>33</th>\n",
        "      <td> 0x81ec1020</td>\n",
        "      <td>        java.exe</td>\n",
        "      <td>  476</td>\n",
        "      <td>2014-04-17 14:42:20</td>\n",
        "    </tr>\n",
        "    <tr>\n",
        "      <th>34</th>\n",
        "      <td> 0x81ec06a8</td>\n",
        "      <td>        java.exe</td>\n",
        "      <td> 3472</td>\n",
        "      <td>2014-04-17 14:42:20</td>\n",
        "    </tr>\n",
        "  </tbody>\n",
        "</table>\n",
        "</div>"
       ],
       "metadata": {},
       "output_type": "pyout",
       "prompt_number": 69,
       "text": [
        "        Offset          Process   Pid             Created\n",
        "0   0x825c8660           System     4 1970-01-01 00:00:00\n",
        "1   0x82208020         smss.exe   384 2014-04-09 07:47:06\n",
        "2   0x821be3b8        csrss.exe   620 2014-04-09 07:47:12\n",
        "3   0x82444da0     winlogon.exe   700 2014-04-09 07:47:13\n",
        "4   0x821bcda0     services.exe   744 2014-04-09 07:47:14\n",
        "5   0x824ee4b0        lsass.exe   756 2014-04-09 07:47:14\n",
        "6   0x8208aa78     vmacthlp.exe   912 2014-04-09 07:47:14\n",
        "7   0x821fd6b8      svchost.exe   936 2014-04-09 07:47:15\n",
        "8   0x82240320      svchost.exe  1004 2014-04-09 07:47:15\n",
        "9   0x820f6da0      svchost.exe  1320 2014-04-09 07:47:16\n",
        "10  0x821ea8e0      svchost.exe  1388 2014-04-09 07:47:17\n",
        "11  0x82377020      svchost.exe  1612 2014-04-09 07:47:18\n",
        "12  0x82348980       wbload.exe  1772 2014-04-09 07:47:21\n",
        "13  0x8208cc10      spoolsv.exe  1832 2014-04-09 07:47:21\n",
        "14  0x822d8020     explorer.exe   184 2014-04-09 07:47:25\n",
        "15  0x82056c10     vmtoolsd.exe   432 2014-04-09 07:47:27\n",
        "16  0x824d9da0       ctfmon.exe   440 2014-04-09 07:47:28\n",
        "17  0x824f8a28  GoogleCrashHand   492 2014-04-09 07:47:28\n",
        "18  0x82207670      svchost.exe   560 2014-04-09 07:47:30\n",
        "19  0x82048460      svchost.exe   596 2014-04-09 07:47:31\n",
        "20  0x821789a0  afsd_service.ex  1108 2014-04-09 07:47:31\n",
        "21  0x824f9590    bosctlsvc.exe  1200 2014-04-09 07:47:31\n",
        "22  0x82180020     vmtoolsd.exe  1252 2014-04-09 07:47:31\n",
        "23  0x82224970  vmware-usbarbit  1444 2014-04-09 07:47:31\n",
        "24  0x823509a0  TPAutoConnSvc.e  1560 2014-04-09 07:47:39\n",
        "25  0x81ef1628          alg.exe  2440 2014-04-09 07:47:40\n",
        "26  0x81ee72b0      wscntfy.exe  2492 2014-04-09 07:47:41\n",
        "27  0x8211b020    bosserver.exe  3548 2014-04-13 08:00:34\n",
        "28  0x81eca988          cmd.exe  3440 2014-04-17 13:37:59\n",
        "29  0x82034020          jqs.exe   640 2014-04-17 14:39:48\n",
        "30  0x82033020     iexplore.exe   308 2014-04-17 14:41:31\n",
        "31  0x82100020     iexplore.exe  2576 2014-04-17 14:41:37\n",
        "32  0x81ee8990         java.exe  3156 2014-04-17 14:42:15\n",
        "33  0x81ec1020         java.exe   476 2014-04-17 14:42:20\n",
        "34  0x81ec06a8         java.exe  3472 2014-04-17 14:42:20"
       ]
      }
     ],
     "prompt_number": 69
    },
    {
     "cell_type": "code",
     "collapsed": true,
     "input": [
      "conns"
     ],
     "language": "python",
     "metadata": {
      "slideshow": {
       "slide_type": "subslide"
      }
     },
     "outputs": [
      {
       "html": [
        "<div style=\"max-height:1000px;max-width:1500px;overflow:auto;\">\n",
        "<table border=\"1\" class=\"dataframe\">\n",
        "  <thead>\n",
        "    <tr style=\"text-align: right;\">\n",
        "      <th></th>\n",
        "      <th>Offset(P)</th>\n",
        "      <th>Local Address</th>\n",
        "      <th>Remote Address</th>\n",
        "      <th>Pid</th>\n",
        "    </tr>\n",
        "  </thead>\n",
        "  <tbody>\n",
        "    <tr>\n",
        "      <th>0 </th>\n",
        "      <td> ----------</td>\n",
        "      <td> -------------------------</td>\n",
        "      <td> -------------------------</td>\n",
        "      <td>        ---</td>\n",
        "    </tr>\n",
        "    <tr>\n",
        "      <th>1 </th>\n",
        "      <td> 0x01e61bf8</td>\n",
        "      <td>       192.168.15.148:2358</td>\n",
        "      <td>          162.252.83.96:80</td>\n",
        "      <td>       2576</td>\n",
        "    </tr>\n",
        "    <tr>\n",
        "      <th>2 </th>\n",
        "      <td> 0x01e7ec18</td>\n",
        "      <td>       192.168.15.148:2345</td>\n",
        "      <td>          23.73.154.156:80</td>\n",
        "      <td>       2576</td>\n",
        "    </tr>\n",
        "    <tr>\n",
        "      <th>3 </th>\n",
        "      <td> 0x01ecb8e0</td>\n",
        "      <td>                 0.0.0.0:0</td>\n",
        "      <td>                 0.0.0.0:0</td>\n",
        "      <td> 2179774712</td>\n",
        "    </tr>\n",
        "    <tr>\n",
        "      <th>4 </th>\n",
        "      <td> 0x01edebc0</td>\n",
        "      <td>        10.254.254.253:139</td>\n",
        "      <td>       192.168.15.148:1648</td>\n",
        "      <td>          4</td>\n",
        "    </tr>\n",
        "    <tr>\n",
        "      <th>5 </th>\n",
        "      <td> 0x01eef9d0</td>\n",
        "      <td>            127.0.0.1:5152</td>\n",
        "      <td>            127.0.0.1:2331</td>\n",
        "      <td>        640</td>\n",
        "    </tr>\n",
        "    <tr>\n",
        "      <th>6 </th>\n",
        "      <td> 0x01f08e68</td>\n",
        "      <td>       192.168.15.148:2366</td>\n",
        "      <td>        192.168.15.173:139</td>\n",
        "      <td>          0</td>\n",
        "    </tr>\n",
        "    <tr>\n",
        "      <th>7 </th>\n",
        "      <td> 0x01f0be68</td>\n",
        "      <td>       192.168.15.148:2352</td>\n",
        "      <td>        74.125.137.132:443</td>\n",
        "      <td>       2576</td>\n",
        "    </tr>\n",
        "    <tr>\n",
        "      <th>8 </th>\n",
        "      <td> 0x01f0e3a0</td>\n",
        "      <td>       192.168.15.148:2353</td>\n",
        "      <td>         74.125.137.156:80</td>\n",
        "      <td>       2576</td>\n",
        "    </tr>\n",
        "    <tr>\n",
        "      <th>9 </th>\n",
        "      <td> 0x020845d0</td>\n",
        "      <td>         8.44.65.130:61057</td>\n",
        "      <td>      78.116.102.114:41148</td>\n",
        "      <td>          0</td>\n",
        "    </tr>\n",
        "    <tr>\n",
        "      <th>10</th>\n",
        "      <td> 0x020bf328</td>\n",
        "      <td>                67.0.0.0:0</td>\n",
        "      <td>           64.208.28.130:0</td>\n",
        "      <td> 2181821248</td>\n",
        "    </tr>\n",
        "    <tr>\n",
        "      <th>11</th>\n",
        "      <td> 0x020d95b8</td>\n",
        "      <td>       192.168.15.148:2360</td>\n",
        "      <td>         74.125.137.132:80</td>\n",
        "      <td>       2576</td>\n",
        "    </tr>\n",
        "    <tr>\n",
        "      <th>12</th>\n",
        "      <td> 0x02101210</td>\n",
        "      <td>       192.168.15.148:2365</td>\n",
        "      <td>       192.168.15.105:4444</td>\n",
        "      <td>       3472</td>\n",
        "    </tr>\n",
        "    <tr>\n",
        "      <th>13</th>\n",
        "      <td> 0x0210ca98</td>\n",
        "      <td>       192.168.15.148:2349</td>\n",
        "      <td>          74.125.21.121:80</td>\n",
        "      <td>       2576</td>\n",
        "    </tr>\n",
        "    <tr>\n",
        "      <th>14</th>\n",
        "      <td> 0x0213cd00</td>\n",
        "      <td>       192.168.15.148:2350</td>\n",
        "      <td>         74.125.196.113:80</td>\n",
        "      <td>       2576</td>\n",
        "    </tr>\n",
        "    <tr>\n",
        "      <th>15</th>\n",
        "      <td> 0x02140e68</td>\n",
        "      <td>       192.168.15.148:2333</td>\n",
        "      <td>          65.55.206.229:80</td>\n",
        "      <td>       2576</td>\n",
        "    </tr>\n",
        "    <tr>\n",
        "      <th>16</th>\n",
        "      <td> 0x02152c10</td>\n",
        "      <td>       192.168.15.148:2359</td>\n",
        "      <td>          162.252.83.96:80</td>\n",
        "      <td>       2576</td>\n",
        "    </tr>\n",
        "    <tr>\n",
        "      <th>17</th>\n",
        "      <td> 0x0216cbd0</td>\n",
        "      <td>       192.168.15.148:2336</td>\n",
        "      <td>          65.55.121.245:80</td>\n",
        "      <td>       2576</td>\n",
        "    </tr>\n",
        "    <tr>\n",
        "      <th>18</th>\n",
        "      <td> 0x02170298</td>\n",
        "      <td>              0.224.90.3:0</td>\n",
        "      <td>                0.16.0.0:0</td>\n",
        "      <td> 2183416352</td>\n",
        "    </tr>\n",
        "    <tr>\n",
        "      <th>19</th>\n",
        "      <td> 0x0218b400</td>\n",
        "      <td>       192.168.15.148:2347</td>\n",
        "      <td>         184.51.150.209:80</td>\n",
        "      <td>       2576</td>\n",
        "    </tr>\n",
        "    <tr>\n",
        "      <th>20</th>\n",
        "      <td> 0x021b18c0</td>\n",
        "      <td>       192.168.15.148:2351</td>\n",
        "      <td>         74.125.137.156:80</td>\n",
        "      <td>       2576</td>\n",
        "    </tr>\n",
        "    <tr>\n",
        "      <th>21</th>\n",
        "      <td> 0x021d6858</td>\n",
        "      <td>       192.168.15.148:2346</td>\n",
        "      <td>         74.125.137.149:80</td>\n",
        "      <td>       2576</td>\n",
        "    </tr>\n",
        "    <tr>\n",
        "      <th>22</th>\n",
        "      <td> 0x021f2678</td>\n",
        "      <td>       192.168.15.148:2362</td>\n",
        "      <td>       192.168.15.105:1337</td>\n",
        "      <td>       2576</td>\n",
        "    </tr>\n",
        "    <tr>\n",
        "      <th>23</th>\n",
        "      <td> 0x022126a0</td>\n",
        "      <td>       192.168.15.148:2341</td>\n",
        "      <td>           65.52.108.11:80</td>\n",
        "      <td>       2576</td>\n",
        "    </tr>\n",
        "    <tr>\n",
        "      <th>24</th>\n",
        "      <td> 0x02255638</td>\n",
        "      <td>       192.168.15.148:2348</td>\n",
        "      <td>         74.125.137.148:80</td>\n",
        "      <td>       2576</td>\n",
        "    </tr>\n",
        "    <tr>\n",
        "      <th>25</th>\n",
        "      <td> 0x02341948</td>\n",
        "      <td>       192.168.15.148:2340</td>\n",
        "      <td>           65.52.108.52:80</td>\n",
        "      <td>       2576</td>\n",
        "    </tr>\n",
        "    <tr>\n",
        "      <th>26</th>\n",
        "      <td> 0x023e7980</td>\n",
        "      <td>       192.168.15.148:2357</td>\n",
        "      <td>        74.125.137.138:443</td>\n",
        "      <td>       2576</td>\n",
        "    </tr>\n",
        "    <tr>\n",
        "      <th>27</th>\n",
        "      <td> 0x0241a2b8</td>\n",
        "      <td>       192.168.15.148:1648</td>\n",
        "      <td>        10.254.254.253:139</td>\n",
        "      <td>          4</td>\n",
        "    </tr>\n",
        "    <tr>\n",
        "      <th>28</th>\n",
        "      <td> 0x0244e5b0</td>\n",
        "      <td>       192.168.15.148:2363</td>\n",
        "      <td>         74.125.196.155:80</td>\n",
        "      <td>       2576</td>\n",
        "    </tr>\n",
        "    <tr>\n",
        "      <th>29</th>\n",
        "      <td> 0x02478710</td>\n",
        "      <td>       192.168.15.148:2364</td>\n",
        "      <td>       192.168.15.105:1337</td>\n",
        "      <td>       3156</td>\n",
        "    </tr>\n",
        "    <tr>\n",
        "      <th>30</th>\n",
        "      <td> 0x024c27d8</td>\n",
        "      <td>       192.168.15.148:2343</td>\n",
        "      <td>         204.79.197.200:80</td>\n",
        "      <td>       2576</td>\n",
        "    </tr>\n",
        "  </tbody>\n",
        "</table>\n",
        "</div>"
       ],
       "metadata": {},
       "output_type": "pyout",
       "prompt_number": 38,
       "text": [
        "     Offset(P)              Local Address             Remote Address  \\\n",
        "0   ----------  -------------------------  -------------------------   \n",
        "1   0x01e61bf8        192.168.15.148:2358           162.252.83.96:80   \n",
        "2   0x01e7ec18        192.168.15.148:2345           23.73.154.156:80   \n",
        "3   0x01ecb8e0                  0.0.0.0:0                  0.0.0.0:0   \n",
        "4   0x01edebc0         10.254.254.253:139        192.168.15.148:1648   \n",
        "5   0x01eef9d0             127.0.0.1:5152             127.0.0.1:2331   \n",
        "6   0x01f08e68        192.168.15.148:2366         192.168.15.173:139   \n",
        "7   0x01f0be68        192.168.15.148:2352         74.125.137.132:443   \n",
        "8   0x01f0e3a0        192.168.15.148:2353          74.125.137.156:80   \n",
        "9   0x020845d0          8.44.65.130:61057       78.116.102.114:41148   \n",
        "10  0x020bf328                 67.0.0.0:0            64.208.28.130:0   \n",
        "11  0x020d95b8        192.168.15.148:2360          74.125.137.132:80   \n",
        "12  0x02101210        192.168.15.148:2365        192.168.15.105:4444   \n",
        "13  0x0210ca98        192.168.15.148:2349           74.125.21.121:80   \n",
        "14  0x0213cd00        192.168.15.148:2350          74.125.196.113:80   \n",
        "15  0x02140e68        192.168.15.148:2333           65.55.206.229:80   \n",
        "16  0x02152c10        192.168.15.148:2359           162.252.83.96:80   \n",
        "17  0x0216cbd0        192.168.15.148:2336           65.55.121.245:80   \n",
        "18  0x02170298               0.224.90.3:0                 0.16.0.0:0   \n",
        "19  0x0218b400        192.168.15.148:2347          184.51.150.209:80   \n",
        "20  0x021b18c0        192.168.15.148:2351          74.125.137.156:80   \n",
        "21  0x021d6858        192.168.15.148:2346          74.125.137.149:80   \n",
        "22  0x021f2678        192.168.15.148:2362        192.168.15.105:1337   \n",
        "23  0x022126a0        192.168.15.148:2341            65.52.108.11:80   \n",
        "24  0x02255638        192.168.15.148:2348          74.125.137.148:80   \n",
        "25  0x02341948        192.168.15.148:2340            65.52.108.52:80   \n",
        "26  0x023e7980        192.168.15.148:2357         74.125.137.138:443   \n",
        "27  0x0241a2b8        192.168.15.148:1648         10.254.254.253:139   \n",
        "28  0x0244e5b0        192.168.15.148:2363          74.125.196.155:80   \n",
        "29  0x02478710        192.168.15.148:2364        192.168.15.105:1337   \n",
        "30  0x024c27d8        192.168.15.148:2343          204.79.197.200:80   \n",
        "\n",
        "           Pid  \n",
        "0          ---  \n",
        "1         2576  \n",
        "2         2576  \n",
        "3   2179774712  \n",
        "4            4  \n",
        "5          640  \n",
        "6            0  \n",
        "7         2576  \n",
        "8         2576  \n",
        "9            0  \n",
        "10  2181821248  \n",
        "11        2576  \n",
        "12        3472  \n",
        "13        2576  \n",
        "14        2576  \n",
        "15        2576  \n",
        "16        2576  \n",
        "17        2576  \n",
        "18  2183416352  \n",
        "19        2576  \n",
        "20        2576  \n",
        "21        2576  \n",
        "22        2576  \n",
        "23        2576  \n",
        "24        2576  \n",
        "25        2576  \n",
        "26        2576  \n",
        "27           4  \n",
        "28        2576  \n",
        "29        3156  \n",
        "30        2576  "
       ]
      }
     ],
     "prompt_number": 38
    },
    {
     "cell_type": "heading",
     "level": 3,
     "metadata": {
      "slideshow": {
       "slide_type": "subslide"
      }
     },
     "source": [
      "Suspicious Processes"
     ]
    },
    {
     "cell_type": "markdown",
     "metadata": {
      "slideshow": {
       "slide_type": "-"
      }
     },
     "source": [
      "Internet Explorer and Java processes were communicating with an unidentified services on a local network host. Those processes and the host they were communicating with are worth further investigation to get to the bottom of the supicious activity in the evidence presented. "
     ]
    },
    {
     "cell_type": "code",
     "collapsed": false,
     "input": [
      "procs[procs.Process==\"iexplore.exe\"]"
     ],
     "language": "python",
     "metadata": {
      "slideshow": {
       "slide_type": "-"
      }
     },
     "outputs": [
      {
       "html": [
        "<div style=\"max-height:1000px;max-width:1500px;overflow:auto;\">\n",
        "<table border=\"1\" class=\"dataframe\">\n",
        "  <thead>\n",
        "    <tr style=\"text-align: right;\">\n",
        "      <th></th>\n",
        "      <th>Offset</th>\n",
        "      <th>Process</th>\n",
        "      <th>Created</th>\n",
        "    </tr>\n",
        "    <tr>\n",
        "      <th>Pid</th>\n",
        "      <th></th>\n",
        "      <th></th>\n",
        "      <th></th>\n",
        "    </tr>\n",
        "  </thead>\n",
        "  <tbody>\n",
        "    <tr>\n",
        "      <th>308 </th>\n",
        "      <td> 0x82033020</td>\n",
        "      <td> iexplore.exe</td>\n",
        "      <td>2014-04-17 14:41:31</td>\n",
        "    </tr>\n",
        "    <tr>\n",
        "      <th>2576</th>\n",
        "      <td> 0x82100020</td>\n",
        "      <td> iexplore.exe</td>\n",
        "      <td>2014-04-17 14:41:37</td>\n",
        "    </tr>\n",
        "  </tbody>\n",
        "</table>\n",
        "</div>"
       ],
       "metadata": {},
       "output_type": "pyout",
       "prompt_number": 102,
       "text": [
        "          Offset       Process             Created\n",
        "Pid                                               \n",
        "308   0x82033020  iexplore.exe 2014-04-17 14:41:31\n",
        "2576  0x82100020  iexplore.exe 2014-04-17 14:41:37"
       ]
      }
     ],
     "prompt_number": 102
    },
    {
     "cell_type": "code",
     "collapsed": false,
     "input": [
      "procs[procs.Process==\"java.exe\"]"
     ],
     "language": "python",
     "metadata": {
      "slideshow": {
       "slide_type": "-"
      }
     },
     "outputs": [
      {
       "html": [
        "<div style=\"max-height:1000px;max-width:1500px;overflow:auto;\">\n",
        "<table border=\"1\" class=\"dataframe\">\n",
        "  <thead>\n",
        "    <tr style=\"text-align: right;\">\n",
        "      <th></th>\n",
        "      <th>Offset</th>\n",
        "      <th>Process</th>\n",
        "      <th>Created</th>\n",
        "    </tr>\n",
        "    <tr>\n",
        "      <th>Pid</th>\n",
        "      <th></th>\n",
        "      <th></th>\n",
        "      <th></th>\n",
        "    </tr>\n",
        "  </thead>\n",
        "  <tbody>\n",
        "    <tr>\n",
        "      <th>3156</th>\n",
        "      <td> 0x81ee8990</td>\n",
        "      <td> java.exe</td>\n",
        "      <td>2014-04-17 14:42:15</td>\n",
        "    </tr>\n",
        "    <tr>\n",
        "      <th>476 </th>\n",
        "      <td> 0x81ec1020</td>\n",
        "      <td> java.exe</td>\n",
        "      <td>2014-04-17 14:42:20</td>\n",
        "    </tr>\n",
        "    <tr>\n",
        "      <th>3472</th>\n",
        "      <td> 0x81ec06a8</td>\n",
        "      <td> java.exe</td>\n",
        "      <td>2014-04-17 14:42:20</td>\n",
        "    </tr>\n",
        "  </tbody>\n",
        "</table>\n",
        "</div>"
       ],
       "metadata": {},
       "output_type": "pyout",
       "prompt_number": 104,
       "text": [
        "          Offset   Process             Created\n",
        "Pid                                           \n",
        "3156  0x81ee8990  java.exe 2014-04-17 14:42:15\n",
        "476   0x81ec1020  java.exe 2014-04-17 14:42:20\n",
        "3472  0x81ec06a8  java.exe 2014-04-17 14:42:20"
       ]
      }
     ],
     "prompt_number": 104
    },
    {
     "cell_type": "heading",
     "level": 2,
     "metadata": {
      "slideshow": {
       "slide_type": "slide"
      }
     },
     "source": [
      "Conclusion"
     ]
    },
    {
     "cell_type": "markdown",
     "metadata": {
      "slideshow": {
       "slide_type": "-"
      }
     },
     "source": [
      "There are definite signs of supicious activity in the evidence gathered so far. Recommend proceding with response efforts in accordance with the IRP: **Contain** the desktop system and gather more evidence from other sources."
     ]
    }
   ],
   "metadata": {}
  }
 ]
}